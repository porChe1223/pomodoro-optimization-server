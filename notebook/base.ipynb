{
  "nbformat": 4,
  "nbformat_minor": 0,
  "metadata": {
    "colab": {
      "provenance": [],
      "authorship_tag": "ABX9TyO3rZ7TgEwUlzcQO+pta8vw",
      "include_colab_link": true
    },
    "kernelspec": {
      "name": "python3",
      "display_name": "Python 3"
    },
    "language_info": {
      "name": "python"
    }
  },
  "cells": [
    {
      "cell_type": "markdown",
      "metadata": {
        "id": "view-in-github",
        "colab_type": "text"
      },
      "source": [
        "<a href=\"https://colab.research.google.com/github/porChe1223/pomodoro_optimization/blob/develop/base.ipynb\" target=\"_parent\"><img src=\"https://colab.research.google.com/assets/colab-badge.svg\" alt=\"Open In Colab\"/></a>"
      ]
    },
    {
      "cell_type": "markdown",
      "source": [
        "# ポモドーロ最適化 - 単純最適化（学習なし）\n",
        "コピー用。このコードが実際に使われる場面はない。"
      ],
      "metadata": {
        "id": "vLjwoi9hDLJD"
      }
    },
    {
      "cell_type": "code",
      "source": [
        "# ライブラリのインストール\n",
        "# 今回使う大体のライブラリはGoogle Colabolatoryに備わってる\n",
        "# 必要な場合は先頭に '!' をつける\n",
        "# !pip install ultralytics"
      ],
      "metadata": {
        "id": "l-q5xEYyEmkS"
      },
      "execution_count": null,
      "outputs": []
    },
    {
      "cell_type": "markdown",
      "source": [
        "## コピー用"
      ],
      "metadata": {
        "id": "XhbXcc_xIp8r"
      }
    },
    {
      "cell_type": "markdown",
      "source": [
        "- 元の数式"
      ],
      "metadata": {
        "id": "hADIH7JzIiBl"
      }
    },
    {
      "cell_type": "markdown",
      "source": [
        "$$\n",
        "C = - (-0.02W^2 - 0.05B^2 + 0.1N -0.1WN + 5)\n",
        "$$"
      ],
      "metadata": {
        "id": "DIojRo6zIkuY"
      }
    },
    {
      "cell_type": "markdown",
      "source": [
        "- 元のコード"
      ],
      "metadata": {
        "id": "SGBP8ZS_GpJp"
      }
    },
    {
      "cell_type": "markdown",
      "source": [
        "初期値のW, B, Nを入力して、そこから数式と制約から最適化を試すコード(学習しないし使われることはない)"
      ],
      "metadata": {
        "id": "EZilDyNSK5eV"
      }
    },
    {
      "cell_type": "code",
      "execution_count": 16,
      "metadata": {
        "colab": {
          "base_uri": "https://localhost:8080/"
        },
        "id": "7uREFLhjCD-u",
        "outputId": "c4a5d47d-7a04-4cf4-a761-b0bc4943074a"
      },
      "outputs": [
        {
          "output_type": "stream",
          "name": "stdout",
          "text": [
            "  message: CONVERGENCE: NORM_OF_PROJECTED_GRADIENT_<=_PGTOL\n",
            "  success: True\n",
            "   status: 0\n",
            "      fun: -4.93\n",
            "        x: [ 1.000e+00  1.000e+00  1.000e+00]\n",
            "      nit: 4\n",
            "      jac: [ 1.400e-01  1.000e-01  0.000e+00]\n",
            "     nfev: 24\n",
            "     njev: 6\n",
            " hess_inv: <3x3 LbfgsInvHessProduct with dtype=float64>\n"
          ]
        }
      ],
      "source": [
        "from scipy.optimize import minimize\n",
        "\n",
        "def optimize(x):\n",
        "    \"\"\"最適化関数\n",
        "    Args:\n",
        "        x (list): W, B, N の初期値\n",
        "    \"\"\"\n",
        "    def concentration(x):\n",
        "        \"\"\"集中度を最大化する目的関数\"\"\"\n",
        "        W, B, N = x\n",
        "        return -(-0.02 * W**2 - 0.05 * B**2 + 0.1 * N - 0.1 * W * N + 5)\n",
        "\n",
        "    # 制約（範囲）\n",
        "    bounds = [(1, None), # W: 1 分〜\n",
        "    (1, None), # B: 1 分〜\n",
        "    (1, None)] # N: 1 回〜\n",
        "\n",
        "    # scipy による最適化(x0 は初期推定値)\n",
        "    result = minimize(concentration, x0=[25, 5, 4], bounds=bounds)\n",
        "\n",
        "    return result\n",
        "\n",
        "print(optimize([25, 5, 4]))"
      ]
    },
    {
      "cell_type": "markdown",
      "source": [
        "## 各実験結果\n",
        "上手くいったものだけ残して  \n",
        "変更ごとに###でタブ分けして"
      ],
      "metadata": {
        "id": "eQPJu9vIFlW2"
      }
    },
    {
      "cell_type": "markdown",
      "source": [
        "### $$ C = - (500B^2 + 4N^2 + 0.1WN -0.1) $$ に変更"
      ],
      "metadata": {
        "id": "e4KxI18IGu0f"
      }
    },
    {
      "cell_type": "code",
      "source": [
        "from scipy.optimize import minimize\n",
        "\n",
        "def optimize(x):\n",
        "    \"\"\"最適化関数\n",
        "    Args:\n",
        "        x (list): W, B, N のリスト\n",
        "    \"\"\"\n",
        "    def concentration(x):\n",
        "        \"\"\"集中度を最大化する目的関数\"\"\"\n",
        "        W, B, N = x\n",
        "        return -(0.02 * W**2 + 0.05 * B**2 + 0.1 * N - 0.1 * W * N + 5)\n",
        "\n",
        "    # 制約（範囲）\n",
        "    bounds = [(1, None), # W: 1 分〜\n",
        "    (1, None), # B: 1 分〜\n",
        "    (1, None)] # N: 1 回〜\n",
        "\n",
        "    # scipy による最適化(x0 は初期推定値)\n",
        "    result = minimize(concentration, x0=[25, 5, 4], bounds=bounds)\n",
        "\n",
        "    return result\n",
        "\n",
        "print(optimize([25, 5, 4]))"
      ],
      "metadata": {
        "colab": {
          "base_uri": "https://localhost:8080/"
        },
        "id": "aS7HzF_HHAiK",
        "outputId": "f7de27e7-03a7-4ac9-82a8-c0fcf115b770"
      },
      "execution_count": 17,
      "outputs": [
        {
          "output_type": "stream",
          "name": "stdout",
          "text": [
            "  message: ABNORMAL_TERMINATION_IN_LNSRCH\n",
            "  success: False\n",
            "   status: 2\n",
            "      fun: -inf\n",
            "        x: [ 3.569e+104  6.050e+153  1.000e+00]\n",
            "      nit: 19\n",
            "      jac: [ 0.000e+00 -6.050e+152  0.000e+00]\n",
            "     nfev: 1312\n",
            "     njev: 328\n",
            " hess_inv: <3x3 LbfgsInvHessProduct with dtype=float64>\n"
          ]
        },
        {
          "output_type": "stream",
          "name": "stderr",
          "text": [
            "<ipython-input-17-8bc66bfc7093>:11: RuntimeWarning: overflow encountered in scalar power\n",
            "  return -(0.02 * W**2 + 0.05 * B**2 + 0.1 * N - 0.1 * W * N + 5)\n"
          ]
        }
      ]
    },
    {
      "cell_type": "markdown",
      "source": [
        "### x = [30, 6, 3] に変更"
      ],
      "metadata": {
        "id": "pbNwYGVKJ98b"
      }
    },
    {
      "cell_type": "code",
      "source": [
        "from scipy.optimize import minimize\n",
        "\n",
        "def optimize(x):\n",
        "    \"\"\"最適化関数\n",
        "    Args:\n",
        "        x (list): W, B, N のリスト\n",
        "    \"\"\"\n",
        "    def concentration(x):\n",
        "        \"\"\"集中度を最大化する目的関数\"\"\"\n",
        "        W, B, N = x\n",
        "        return -(-0.02 * W**2 - 0.05 * B**2 + 0.1 * N - 0.1 * W * N + 5)\n",
        "\n",
        "    # 制約（範囲）\n",
        "    bounds = [(1, None), # W: 1 分〜\n",
        "    (1, None), # B: 1 分〜\n",
        "    (1, None)] # N: 1 回〜\n",
        "\n",
        "    # scipy による最適化(x0 は初期推定値)\n",
        "    result = minimize(concentration, x0=[25, 5, 4], bounds=bounds)\n",
        "\n",
        "    return result\n",
        "\n",
        "print(optimize([30, 6, 3]))"
      ],
      "metadata": {
        "colab": {
          "base_uri": "https://localhost:8080/"
        },
        "id": "iKzhsnvfKLMY",
        "outputId": "67b8435c-ee53-4913-deac-4eac5d25baf2"
      },
      "execution_count": 18,
      "outputs": [
        {
          "output_type": "stream",
          "name": "stdout",
          "text": [
            "  message: CONVERGENCE: NORM_OF_PROJECTED_GRADIENT_<=_PGTOL\n",
            "  success: True\n",
            "   status: 0\n",
            "      fun: -4.93\n",
            "        x: [ 1.000e+00  1.000e+00  1.000e+00]\n",
            "      nit: 4\n",
            "      jac: [ 1.400e-01  1.000e-01  0.000e+00]\n",
            "     nfev: 24\n",
            "     njev: 6\n",
            " hess_inv: <3x3 LbfgsInvHessProduct with dtype=float64>\n"
          ]
        }
      ]
    },
    {
      "cell_type": "markdown",
      "source": [
        "## 下書き用"
      ],
      "metadata": {
        "id": "esaTGvLLJHBt"
      }
    },
    {
      "cell_type": "code",
      "source": [],
      "metadata": {
        "id": "_JC5BY9rJLK4"
      },
      "execution_count": null,
      "outputs": []
    }
  ]
}