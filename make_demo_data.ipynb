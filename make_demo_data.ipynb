{
  "nbformat": 4,
  "nbformat_minor": 0,
  "metadata": {
    "colab": {
      "provenance": [],
      "collapsed_sections": [
        "esaTGvLLJHBt"
      ],
      "authorship_tag": "ABX9TyOmydRKO19bkXQOjWe/PWdI",
      "include_colab_link": true
    },
    "kernelspec": {
      "name": "python3",
      "display_name": "Python 3"
    },
    "language_info": {
      "name": "python"
    }
  },
  "cells": [
    {
      "cell_type": "markdown",
      "metadata": {
        "id": "view-in-github",
        "colab_type": "text"
      },
      "source": [
        "<a href=\"https://colab.research.google.com/github/porChe1223/pomodoro_optimization/blob/develop/make_demo_data.ipynb\" target=\"_parent\"><img src=\"https://colab.research.google.com/assets/colab-badge.svg\" alt=\"Open In Colab\"/></a>"
      ]
    },
    {
      "cell_type": "markdown",
      "source": [
        "# ポモドーロ最適化 - デモデータ作成"
      ],
      "metadata": {
        "id": "vLjwoi9hDLJD"
      }
    },
    {
      "cell_type": "code",
      "source": [
        "# ライブラリのインストール\n",
        "# 今回使う大体のライブラリはGoogle Colabolatoryに備わってる\n",
        "# 必要な場合は先頭に '!' をつける\n",
        "# !pip install ultralytics"
      ],
      "metadata": {
        "id": "l-q5xEYyEmkS"
      },
      "execution_count": null,
      "outputs": []
    },
    {
      "cell_type": "markdown",
      "source": [
        "## 各実験結果\n",
        "報告したいものだけ残して  \n",
        "変更ごとに###でタブ分けして"
      ],
      "metadata": {
        "id": "eQPJu9vIFlW2"
      }
    },
    {
      "cell_type": "markdown",
      "source": [
        "### Cをランダム生成"
      ],
      "metadata": {
        "id": "e4KxI18IGu0f"
      }
    },
    {
      "cell_type": "code",
      "source": [
        "## WRITEME!"
      ],
      "metadata": {
        "id": "aS7HzF_HHAiK"
      },
      "execution_count": 1,
      "outputs": []
    },
    {
      "cell_type": "markdown",
      "source": [
        "## 下書き用"
      ],
      "metadata": {
        "id": "esaTGvLLJHBt"
      }
    },
    {
      "cell_type": "code",
      "source": [],
      "metadata": {
        "id": "_JC5BY9rJLK4"
      },
      "execution_count": null,
      "outputs": []
    }
  ]
}